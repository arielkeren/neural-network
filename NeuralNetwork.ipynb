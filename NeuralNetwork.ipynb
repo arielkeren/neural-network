{
  "nbformat": 4,
  "nbformat_minor": 0,
  "metadata": {
    "colab": {
      "provenance": [],
      "authorship_tag": "ABX9TyNQAk0ViRnuzAvgZe27chNp",
      "include_colab_link": true
    },
    "kernelspec": {
      "name": "python3",
      "display_name": "Python 3"
    },
    "language_info": {
      "name": "python"
    }
  },
  "cells": [
    {
      "cell_type": "markdown",
      "metadata": {
        "id": "view-in-github",
        "colab_type": "text"
      },
      "source": [
        "<a href=\"https://colab.research.google.com/github/arielkeren/neural-network/blob/main/NeuralNetwork.ipynb\" target=\"_parent\"><img src=\"https://colab.research.google.com/assets/colab-badge.svg\" alt=\"Open In Colab\"/></a>"
      ]
    },
    {
      "cell_type": "code",
      "source": [
        "import numpy as np\n",
        "\n",
        "class Initialization:\n",
        "  @staticmethod\n",
        "  def get(name):\n",
        "    match name.lower():\n",
        "      case \"xavier\":\n",
        "        return Initialization.xavier\n",
        "      case \"he\":\n",
        "        return Initialization.he\n",
        "      case \"zero\":\n",
        "        return Initialization.zero\n",
        "      case _:\n",
        "        return Initialization.he\n",
        "\n",
        "  @staticmethod\n",
        "  def xavier(n_in, n_out):\n",
        "    return np.random.randn(n_in, n_out) * np.sqrt(1. / n_in)\n",
        "\n",
        "  @staticmethod\n",
        "  def he(n_in, n_out):\n",
        "    return np.random.randn(n_in, n_out) * np.sqrt(2. / n_in)\n",
        "\n",
        "  @staticmethod\n",
        "  def zero(n_in, n_out):\n",
        "    return np.zeros((n_in, n_out))\n",
        "\n",
        "class Loss:\n",
        "  @staticmethod\n",
        "  def get(name):\n",
        "    match name.lower():\n",
        "      case \"mean_squared_error\":\n",
        "        return Loss.mean_squared_error, Loss.mean_squared_error_derivative\n",
        "      case \"binary_cross_entropy\":\n",
        "        return Loss.binary_cross_entropy, Loss.binary_cross_entropy_derivative\n",
        "      case \"categorical_cross_entropy\":\n",
        "        return Loss.categorical_cross_entropy, Loss.categorical_cross_entropy_derivative\n",
        "      case _:\n",
        "        return Loss.mean_squared_error, Loss.mean_squared_error_derivative\n",
        "\n",
        "  @staticmethod\n",
        "  def simplify(loss, output_activation):\n",
        "    loss = loss.lower()\n",
        "    output_activation = output_activation.lower()\n",
        "\n",
        "    if (loss == \"binary_cross_entropy\" and output_activation == \"sigmoid\"):\n",
        "      return Loss.mean_squared_error_derivative, Activation.linear_derivative\n",
        "\n",
        "    if (loss == \"categorical_cross_entropy\" and output_activation == \"softmax\"):\n",
        "      return Loss.mean_squared_error_derivative, Activation.linear_derivative\n",
        "\n",
        "    return Loss.get(loss)[1], Activation.get(output_activation)[1]\n",
        "\n",
        "  @staticmethod\n",
        "  def mean_squared_error(y_true, y_pred):\n",
        "    error = y_pred - y_true\n",
        "    return np.mean(error * error)\n",
        "\n",
        "  @staticmethod\n",
        "  def mean_squared_error_derivative(y_true, y_pred):\n",
        "    return y_pred - y_true\n",
        "\n",
        "  @staticmethod\n",
        "  def binary_cross_entropy(y_true, y_pred):\n",
        "    y_pred = np.clip(y_pred, 1e-10, 1 - 1e-10)\n",
        "    return -(y_true * np.log(y_pred) + (1 - y_true) * np.log(1 - y_pred))\n",
        "\n",
        "  @staticmethod\n",
        "  def binary_cross_entropy_derivative(y_true, y_pred):\n",
        "    y_pred = np.clip(y_pred, 1e-10, 1 - 1e-10)\n",
        "    return -(y_true / y_pred - (1 - y_true) / (1 - y_pred))\n",
        "\n",
        "  @staticmethod\n",
        "  def categorical_cross_entropy(y_true, y_pred):\n",
        "    y_pred = np.clip(y_pred, 1e-10, 1 - 1e-10)\n",
        "    return np.mean(-np.sum(y_true * np.log(y_pred), axis=1))\n",
        "\n",
        "  @staticmethod\n",
        "  def categorical_cross_entropy_derivative(y_true, y_pred):\n",
        "    y_pred = np.clip(y_pred, 1e-10, 1 - 1e-10)\n",
        "    return -y_true / y_pred\n",
        "\n",
        "class Activation:\n",
        "  @staticmethod\n",
        "  def get(name):\n",
        "    match name.lower():\n",
        "      case \"linear\":\n",
        "        return Activation.linear, Activation.linear_derivative\n",
        "      case \"sigmoid\":\n",
        "        return Activation.sigmoid, Activation.sigmoid_derivative\n",
        "      case \"tanh\":\n",
        "        return Activation.tanh, Activation.tanh_derivative\n",
        "      case \"relu\":\n",
        "        return Activation.relu, Activation.relu_derivative\n",
        "      case \"softmax\":\n",
        "        return Activation.softmax, Activation.softmax_derivative\n",
        "      case _:\n",
        "        return Activation.relu, Activation.relu_derivative\n",
        "\n",
        "  @staticmethod\n",
        "  def linear(x):\n",
        "    return x\n",
        "\n",
        "  @staticmethod\n",
        "  def linear_derivative(x):\n",
        "    return np.ones_like(x)\n",
        "\n",
        "  @staticmethod\n",
        "  def sigmoid(x):\n",
        "    return 1. / (1. + np.exp(-x))\n",
        "\n",
        "  @staticmethod\n",
        "  def sigmoid_derivative(x):\n",
        "    return Activation.sigmoid(x) * (1. - Activation.sigmoid(x))\n",
        "\n",
        "  @staticmethod\n",
        "  def tanh(x):\n",
        "    return np.tanh(x)\n",
        "\n",
        "  @staticmethod\n",
        "  def tanh_derivative(x):\n",
        "    value = Activation.tanh(x)\n",
        "    return 1. - value * value\n",
        "\n",
        "  @staticmethod\n",
        "  def relu(x):\n",
        "    return x * (x > 0)\n",
        "\n",
        "  @staticmethod\n",
        "  def relu_derivative(x):\n",
        "    return 1. * (x > 0)\n",
        "\n",
        "  @staticmethod\n",
        "  def softmax(x):\n",
        "    x_exp = np.exp(x - np.max(x, axis=1, keepdims=True))\n",
        "    return x_exp / np.sum(x_exp, axis=1, keepdims=True)\n",
        "\n",
        "  @staticmethod\n",
        "  def softmax_derivative(x):\n",
        "    softmax_output = Activation.softmax(x)\n",
        "\n",
        "    num_samples = softmax_output.shape[0]\n",
        "    num_classes = softmax_output.shape[1]\n",
        "\n",
        "    jacobian_matrix = np.zeros((num_samples, num_classes, num_classes))\n",
        "\n",
        "    for i in range(num_samples):\n",
        "        for j in range(num_classes):\n",
        "            for k in range(num_classes):\n",
        "                if j == k:\n",
        "                    jacobian_matrix[i, j, k] = softmax_output[i, j] * (1 - softmax_output[i, j])\n",
        "                else:\n",
        "                    jacobian_matrix[i, j, k] = -softmax_output[i, j] * softmax_output[i, k]\n",
        "\n",
        "    return jacobian_matrix"
      ],
      "metadata": {
        "id": "Q-SN4pl5fefM"
      },
      "execution_count": 24,
      "outputs": []
    },
    {
      "cell_type": "code",
      "source": [
        "from dataclasses import dataclass\n",
        "\n",
        "@dataclass\n",
        "class Layer:\n",
        "  num_neurons: int\n",
        "  activation: str\n",
        "  initialization: str"
      ],
      "metadata": {
        "id": "X_yzlZL4IW97"
      },
      "execution_count": 2,
      "outputs": []
    },
    {
      "cell_type": "code",
      "source": [
        "import matplotlib.pyplot as plt\n",
        "\n",
        "class NeuralNetwork:\n",
        "  def __init__(self, num_inputs, loss):\n",
        "    self.num_inputs = num_inputs\n",
        "    self.loss_name = loss\n",
        "    self.loss, self.loss_derivative = Loss.get(loss)\n",
        "    self.weights = []\n",
        "    self.biases = []\n",
        "    self.activations = []\n",
        "    self.derivatives = []\n",
        "    self.layers = []\n",
        "    self.error_history = []\n",
        "\n",
        "  def add(self, num_neurons, activation, initialization):\n",
        "    if len(self.layers) == 0:\n",
        "      self.weights.append(Initialization.get(initialization)(self.num_inputs, num_neurons))\n",
        "    else:\n",
        "      self.weights.append(Initialization.get(initialization)(self.weights[-1].shape[1], num_neurons))\n",
        "\n",
        "    self.layers.append(Layer(num_neurons, activation, initialization))\n",
        "    self.biases.append(np.zeros(num_neurons))\n",
        "\n",
        "    activation_function, derivative = Activation.get(activation)\n",
        "    self.activations.append(activation_function)\n",
        "    self.derivatives.append(derivative)\n",
        "\n",
        "  def remove(self):\n",
        "    if len(self.layers) == 0:\n",
        "      return\n",
        "\n",
        "    self.weights = self.weights[:-1]\n",
        "    self.biases = self.biases[:-1]\n",
        "    self.activations = self.activations[:-1]\n",
        "    self.derivatives = self.derivatives[:-1]\n",
        "    self.layers = self.layers[:-1]\n",
        "\n",
        "  def summary(self):\n",
        "    print(\"----------\")\n",
        "\n",
        "    print(\"Loss:\", self.loss_name)\n",
        "    print(\"Input Layer:\", self.num_inputs)\n",
        "\n",
        "    total_weights = 0\n",
        "    total_biases = 0\n",
        "    last_num_neurons = self.num_inputs\n",
        "\n",
        "    for index, layer in enumerate(self.layers[:-1]):\n",
        "      total_weights += layer.num_neurons * last_num_neurons\n",
        "      total_biases += layer.num_neurons\n",
        "\n",
        "      print(\"\\n--- Hidden Layer\", index + 1, \"---\")\n",
        "      print(\"Neurons:\", layer.num_neurons)\n",
        "      print(\"Activation:\", layer.activation)\n",
        "      print(\"Initialization:\", layer.initialization)\n",
        "      print(\"Weights:\", layer.num_neurons * last_num_neurons)\n",
        "      print(\"Biases:\", layer.num_neurons)\n",
        "\n",
        "      last_num_neurons = layer.num_neurons\n",
        "\n",
        "    output_layer = self.layers[-1]\n",
        "    total_weights += output_layer.num_neurons * last_num_neurons\n",
        "    total_biases += output_layer.num_neurons\n",
        "\n",
        "    print(\"\\n--- Output Layer ---\")\n",
        "    print(\"Neurons:\", output_layer.num_neurons)\n",
        "    print(\"Activation:\", output_layer.activation)\n",
        "    print(\"Initialization:\", output_layer.initialization)\n",
        "    print(\"Weights:\", output_layer.num_neurons * last_num_neurons)\n",
        "    print(\"Biases:\", output_layer.num_neurons)\n",
        "\n",
        "    print(\"\\nTotal weights:\", total_weights)\n",
        "    print(\"Total biases:\", total_biases)\n",
        "    print(\"Total parameters:\", total_weights + total_biases)\n",
        "\n",
        "    if len(self.error_history) > 0:\n",
        "      print(\"Loss:\", self.error_history[-1])\n",
        "\n",
        "    print(\"----------\")\n",
        "\n",
        "    if len(self.error_history) > 0:\n",
        "      plt.figure()\n",
        "      plt.plot(self.error_history, label=\"Loss\")\n",
        "      plt.legend()\n",
        "      plt.show()\n",
        "\n",
        "  def predict(self, x):\n",
        "    for weights, biases, activation in zip(self.weights, self.biases, self.activations):\n",
        "        x = activation(x @ weights + biases)\n",
        "    return x\n",
        "\n",
        "  def fit(self, x, y, batch_size, learning_rate, epochs):\n",
        "    self.loss_derivative, self.derivatives[-1] = Loss.simplify(self.loss_name, self.layers[-1].activation)\n",
        "\n",
        "    error_history = []\n",
        "    num_samples = y.shape[0]\n",
        "\n",
        "    for _ in range(epochs):\n",
        "      random_indices = np.random.permutation(num_samples)[:batch_size]\n",
        "      batch_x = x[random_indices]\n",
        "      batch_y = y[random_indices]\n",
        "\n",
        "      output_a = batch_x\n",
        "      z_results = []\n",
        "      a_results = []\n",
        "\n",
        "      for weights, biases, activation in zip(self.weights, self.biases, self.activations):\n",
        "        a_results.append(output_a)\n",
        "        z = output_a @ weights + biases\n",
        "        a = activation(z)\n",
        "        z_results.append(z)\n",
        "        output_a = a\n",
        "\n",
        "      error = self.loss_derivative(batch_y, output_a)\n",
        "\n",
        "      derivatives = [derivative(z_result) for derivative, z_result in zip(self.derivatives, z_results)][::-1]\n",
        "\n",
        "      change = error * derivatives[0]\n",
        "      changes = [change]\n",
        "\n",
        "      for derivative, weights in zip(derivatives[1:], self.weights[::-1]):\n",
        "        change = (change @ weights.T) * derivative\n",
        "        changes.append(change)\n",
        "\n",
        "      changes = changes[::-1]\n",
        "\n",
        "      for index in range(len(self.weights)):\n",
        "        self.biases[index] -= learning_rate * np.mean(changes[index], axis=0)\n",
        "        self.weights[index] -= (learning_rate * (changes[index].T @ a_results[index])).T\n",
        "\n",
        "      error_history.append(np.mean(self.loss(batch_y, output_a)))\n",
        "\n",
        "    self.error_history = error_history"
      ],
      "metadata": {
        "id": "yxHpshNYfguf"
      },
      "execution_count": 3,
      "outputs": []
    },
    {
      "cell_type": "code",
      "source": [
        "class BinaryClassifier(NeuralNetwork):\n",
        "  def __init__(self, num_inputs):\n",
        "    super().__init__(num_inputs, \"binary_cross_entropy\")\n",
        "    super().add(1, \"sigmoid\", \"xavier\")\n",
        "\n",
        "  def add(self, num_neurons, activation, initialization):\n",
        "    super().remove()\n",
        "    super().add(num_neurons, activation, initialization)\n",
        "    super().add(1, \"sigmoid\", \"xavier\")\n",
        "\n",
        "  def fit(self, x, y, batch_size, learning_rate, epochs):\n",
        "    super().fit(x, y.reshape(-1, 1), batch_size, learning_rate, epochs)\n",
        "\n",
        "  def test(self, x, y):\n",
        "    print(\"Accuracy:\", str(round(100 * np.mean((np.reshape(model.predict(x), x.shape[0]) >= .5) == y), 3)) + \"%\")\n",
        "\n",
        "class Classifier(NeuralNetwork):\n",
        "  def __init__(self, num_inputs, num_classes):\n",
        "    super().__init__(num_inputs, \"categorical_cross_entropy\")\n",
        "    super().add(num_classes, \"softmax\", \"xavier\")\n",
        "\n",
        "  def add(self, num_neurons, activation, initialization):\n",
        "    num_classes = self.layers[-1].num_neurons\n",
        "    super().remove()\n",
        "    super().add(num_neurons, activation, initialization)\n",
        "    super().add(num_classes, \"softmax\", \"xavier\")\n",
        "\n",
        "  def fit(self, x, y, batch_size, learning_rate, epochs):\n",
        "    super().fit(x, np.eye(self.layers[-1].num_neurons)[y], batch_size, learning_rate, epochs)\n",
        "\n",
        "  def test(self, x, y):\n",
        "    print(\"Accuracy:\", str(round(100 * np.mean(np.argmax(model.predict(x), axis=1) == y), 3)) + \"%\")\n",
        "\n",
        "class Regressor(NeuralNetwork):\n",
        "  def __init__(self, num_inputs, num_outputs):\n",
        "    super().__init__(num_inputs, \"mean_squared_error\")\n",
        "    super().add(num_outputs, \"linear\", \"xavier\")\n",
        "\n",
        "  def add(self, num_neurons, activation, initialization):\n",
        "    num_outputs = self.layers[-1].num_neurons\n",
        "    super().remove()\n",
        "    super().add(num_neurons, activation, initialization)\n",
        "    super().add(num_outputs, \"linear\", \"xavier\")\n",
        "\n",
        "  def test(self, x, y):\n",
        "    print(\"Average error:\", round(np.mean(abs(model.predict(x) - y)), 3))\n",
        "\n",
        "class Perceptron:\n",
        "  def __init__(self, num_inputs, activation, initialization):\n",
        "    self.perceptron = NeuralNetwork(num_inputs, \"mean_squared_error\")\n",
        "    self.perceptron.add(1, activation, initialization)\n",
        "\n",
        "  def summary(self):\n",
        "    self.perceptron.summary()\n",
        "\n",
        "  def predict(self, x):\n",
        "    return self.perceptron.predict(x)\n",
        "\n",
        "  def fit(self, x, y, batch_size, learning_rate, epochs):\n",
        "    self.perceptron.fit(x, y.reshape(-1, 1), batch_size, learning_rate, epochs)\n",
        "\n",
        "class LinearRegressor(Perceptron):\n",
        "  def __init__(self, num_inputs):\n",
        "    super().__init__(num_inputs, \"linear\", \"xavier\")\n",
        "\n",
        "  def test(self, x, y):\n",
        "    print(\"Average error:\", round(np.mean(abs((np.reshape(model.predict(x), x.shape[0]) - y))), 3))\n",
        "\n",
        "class LogisticRegressor(Perceptron):\n",
        "  def __init__(self, num_inputs):\n",
        "    super().__init__(num_inputs, \"sigmoid\", \"xavier\")\n",
        "\n",
        "  def test(self, x, y):\n",
        "    print(\"Accuracy:\", str(round(100 * np.mean((np.reshape(model.predict(x), x.shape[0]) >= .5) == y), 3)) + \"%\")"
      ],
      "metadata": {
        "id": "zNso4s4NGavD"
      },
      "execution_count": 18,
      "outputs": []
    },
    {
      "cell_type": "code",
      "source": [
        "def split_data(x, y, test_percentage=20):\n",
        "  indices = np.arange(y.shape[0])\n",
        "  np.random.shuffle(indices)\n",
        "  split = int(y.shape[0] * test_percentage / 100)\n",
        "\n",
        "  x = x[indices]\n",
        "  y = y[indices]\n",
        "\n",
        "  x_train = x[split:]\n",
        "  y_train = y[split:]\n",
        "\n",
        "  x_test = x[:split]\n",
        "  y_test = y[:split]\n",
        "\n",
        "  return (x_train, y_train, x_test, y_test)\n",
        "\n",
        "def load_binary_x(file_path):\n",
        "  with open(file_path, \"rb\") as file:\n",
        "      file.read(16)\n",
        "      binary_data = file.read()\n",
        "\n",
        "  numpy_data = np.frombuffer(binary_data, dtype=np.uint8)\n",
        "  num_images = numpy_data.size // 784\n",
        "  data = numpy_data.reshape(num_images, 784)\n",
        "  data = data / 255\n",
        "  return data\n",
        "\n",
        "def load_binary_y(file_path):\n",
        "  with open(file_path, \"rb\") as file:\n",
        "      file.read(8)\n",
        "      binary_data = file.read()\n",
        "\n",
        "  return np.frombuffer(binary_data, dtype=np.uint8)"
      ],
      "metadata": {
        "id": "tpY6uk_Sp1Kb"
      },
      "execution_count": 4,
      "outputs": []
    },
    {
      "cell_type": "markdown",
      "source": [
        "Handwritten Digit Recognition"
      ],
      "metadata": {
        "id": "xDOXRq0Rq8v2"
      }
    },
    {
      "cell_type": "code",
      "source": [
        "x_train = load_binary_x(\"digits_x_train\")\n",
        "y_train = load_binary_y(\"digits_y_train\")\n",
        "x_test = load_binary_x(\"digits_x_test\")\n",
        "y_test = load_binary_y(\"digits_y_test\")\n",
        "\n",
        "model = Classifier(28 * 28, 10)\n",
        "model.add(128, \"relu\", \"he\")\n",
        "model.add(32, \"relu\", \"he\")\n",
        "model.fit(x_train, y_train, 4096, 0.0001, 500)\n",
        "model.test(x_test, y_test)\n",
        "model.summary()"
      ],
      "metadata": {
        "colab": {
          "base_uri": "https://localhost:8080/",
          "height": 968
        },
        "id": "9tMoq2GjqS94",
        "outputId": "583f1919-128a-4c56-c7c4-26dc3f721bcc"
      },
      "execution_count": null,
      "outputs": [
        {
          "output_type": "stream",
          "name": "stdout",
          "text": [
            "Accuracy: 96.79%\n",
            "----------\n",
            "Loss: categorical_cross_entropy\n",
            "Input Layer: 784\n",
            "\n",
            "--- Hidden Layer 1 ---\n",
            "Neurons: 128\n",
            "Activation: relu\n",
            "Initialization: he\n",
            "Weights: 100352\n",
            "Biases: 128\n",
            "\n",
            "--- Hidden Layer 2 ---\n",
            "Neurons: 32\n",
            "Activation: relu\n",
            "Initialization: he\n",
            "Weights: 4096\n",
            "Biases: 32\n",
            "\n",
            "--- Output Layer ---\n",
            "Neurons: 10\n",
            "Activation: softmax\n",
            "Initialization: xavier\n",
            "Weights: 320\n",
            "Biases: 10\n",
            "\n",
            "Total weights: 104768\n",
            "Total biases: 170\n",
            "Total parameters: 104938\n",
            "Loss: 0.08984444384580431\n",
            "----------\n"
          ]
        },
        {
          "output_type": "display_data",
          "data": {
            "text/plain": [
              "<Figure size 640x480 with 1 Axes>"
            ],
            "image/png": "[encoded data removed]"
          },
          "metadata": {}
        }
      ]
    },
    {
      "cell_type": "markdown",
      "source": [
        "Iris Classification"
      ],
      "metadata": {
        "id": "oWTTvkx5rCEu"
      }
    },
    {
      "cell_type": "code",
      "source": [
        "import pandas as pd\n",
        "\n",
        "iris_to_number = {\"Iris-setosa\": 0, \"Iris-versicolor\": 1, \"Iris-virginica\": 2}\n",
        "df = pd.read_csv(\"/content/iris.csv\")\n",
        "y = df.Species.apply(lambda value: iris_to_number[value]).values\n",
        "df = df.drop(columns=[\"Species\", \"Id\"])\n",
        "df = (df - df.mean()) / df.std()\n",
        "x = df.values\n",
        "x_train, y_train, x_test, y_test = split_data(x, y)\n",
        "\n",
        "model = Classifier(4, 3)\n",
        "model.add(16, \"relu\", \"he\")\n",
        "model.add(8, \"relu\", \"he\")\n",
        "model.fit(x_train, y_train, 120, 0.001, 100000)\n",
        "model.test(x_test, y_test)\n",
        "model.summary()"
      ],
      "metadata": {
        "colab": {
          "base_uri": "https://localhost:8080/",
          "height": 968
        },
        "id": "UZiHQbwaqhxM",
        "outputId": "13948141-ce8d-4e75-f4f2-84072b97b7a3"
      },
      "execution_count": null,
      "outputs": [
        {
          "output_type": "stream",
          "name": "stdout",
          "text": [
            "Accuracy: 93.333%\n",
            "----------\n",
            "Loss: categorical_cross_entropy\n",
            "Input Layer: 4\n",
            "\n",
            "--- Hidden Layer 1 ---\n",
            "Neurons: 16\n",
            "Activation: relu\n",
            "Initialization: he\n",
            "Weights: 64\n",
            "Biases: 16\n",
            "\n",
            "--- Hidden Layer 2 ---\n",
            "Neurons: 8\n",
            "Activation: relu\n",
            "Initialization: he\n",
            "Weights: 128\n",
            "Biases: 8\n",
            "\n",
            "--- Output Layer ---\n",
            "Neurons: 3\n",
            "Activation: softmax\n",
            "Initialization: xavier\n",
            "Weights: 24\n",
            "Biases: 3\n",
            "\n",
            "Total weights: 216\n",
            "Total biases: 27\n",
            "Total parameters: 243\n",
            "Loss: 3.117779436017185e-05\n",
            "----------\n"
          ]
        },
        {
          "output_type": "display_data",
          "data": {
            "text/plain": [
              "<Figure size 640x480 with 1 Axes>"
            ],
            "image/png": "[encoded data removed]"
          },
          "metadata": {}
        }
      ]
    },
    {
      "cell_type": "markdown",
      "source": [
        "Gender Binary Classification"
      ],
      "metadata": {
        "id": "SXFrjCiHrG-j"
      }
    },
    {
      "cell_type": "code",
      "source": [
        "df = pd.read_csv(\"/content/gender.csv\")\n",
        "y = df[df.columns[3]].apply(lambda value: 0 if value == \"זכר\" else 1).values\n",
        "df = df.drop(columns=df.columns[3])\n",
        "df = (df - df.mean()) / df.std()\n",
        "x = df.values\n",
        "x_train, y_train, x_test, y_test = split_data(x, y)\n",
        "\n",
        "model = BinaryClassifier(3)\n",
        "model.add(8, \"relu\", \"he\")\n",
        "model.fit(x_train, y_train, x_train.shape[0], 0.01, 10000)\n",
        "model.test(x_test, y_test)\n",
        "model.summary()"
      ],
      "metadata": {
        "colab": {
          "base_uri": "https://localhost:8080/",
          "height": 848
        },
        "id": "HqXNl2ZqquXb",
        "outputId": "5edee08e-1c3e-4d44-bf67-fd1d40a6ab95"
      },
      "execution_count": null,
      "outputs": [
        {
          "output_type": "stream",
          "name": "stdout",
          "text": [
            "Accuracy: 100.0%\n",
            "----------\n",
            "Loss: binary_cross_entropy\n",
            "Input Layer: 3\n",
            "\n",
            "--- Hidden Layer 1 ---\n",
            "Neurons: 8\n",
            "Activation: relu\n",
            "Initialization: he\n",
            "Weights: 24\n",
            "Biases: 8\n",
            "\n",
            "--- Output Layer ---\n",
            "Neurons: 1\n",
            "Activation: sigmoid\n",
            "Initialization: xavier\n",
            "Weights: 8\n",
            "Biases: 1\n",
            "\n",
            "Total weights: 32\n",
            "Total biases: 9\n",
            "Total parameters: 41\n",
            "Loss: 0.00026226717537245864\n",
            "----------\n"
          ]
        },
        {
          "output_type": "display_data",
          "data": {
            "text/plain": [
              "<Figure size 640x480 with 1 Axes>"
            ],
            "image/png": "[encoded data removed]"
          },
          "metadata": {}
        }
      ]
    },
    {
      "cell_type": "markdown",
      "source": [
        "Height Linear Regression"
      ],
      "metadata": {
        "id": "4BCSVV5xrLVV"
      }
    },
    {
      "cell_type": "code",
      "source": [
        "df = pd.read_csv(\"/content/gender.csv\")\n",
        "df = df.drop(columns=df.columns[3])\n",
        "df = (df - df.mean()) / df.std()\n",
        "y = df[df.columns[0]].values\n",
        "df = df.drop(columns=df.columns[0])\n",
        "x = df.values\n",
        "x_train, y_train, x_test, y_test = split_data(x, y)\n",
        "\n",
        "model = LinearRegressor(2)\n",
        "model.fit(x_train, y_train, x_train.shape[0], 0.01, 150)\n",
        "model.test(x_test, y_test)\n",
        "model.summary()"
      ],
      "metadata": {
        "colab": {
          "base_uri": "https://localhost:8080/",
          "height": 725
        },
        "id": "nItQ0pjiokFt",
        "outputId": "0eb97440-7028-41ca-bc84-21bc9c41ec97"
      },
      "execution_count": 11,
      "outputs": [
        {
          "output_type": "stream",
          "name": "stdout",
          "text": [
            "Average error: 0.167\n",
            "----------\n",
            "Loss: mean_squared_error\n",
            "Input Layer: 2\n",
            "\n",
            "--- Output Layer ---\n",
            "Neurons: 1\n",
            "Activation: linear\n",
            "Initialization: xavier\n",
            "Weights: 2\n",
            "Biases: 1\n",
            "\n",
            "Total weights: 2\n",
            "Total biases: 1\n",
            "Total parameters: 3\n",
            "Loss: 0.2989448386962408\n",
            "----------\n"
          ]
        },
        {
          "output_type": "display_data",
          "data": {
            "text/plain": [
              "<Figure size 640x480 with 1 Axes>"
            ],
            "image/png": "[encoded data removed]"
          },
          "metadata": {}
        }
      ]
    },
    {
      "cell_type": "markdown",
      "source": [
        "OR Logistic Regression"
      ],
      "metadata": {
        "id": "4FOTKA91r9J8"
      }
    },
    {
      "cell_type": "code",
      "source": [
        "x = np.array([[0, 0], [0, 1], [1, 0], [1, 1]])\n",
        "y = np.array([0, 1, 1, 1])\n",
        "\n",
        "model = LogisticRegressor(2)\n",
        "model.fit(x, y, 4, 0.1, 5000)\n",
        "model.test(x, y)\n",
        "model.summary()"
      ],
      "metadata": {
        "colab": {
          "base_uri": "https://localhost:8080/",
          "height": 725
        },
        "id": "41Qj6vhysAJz",
        "outputId": "cef684e1-340c-49bf-d25d-931013b4d7b7"
      },
      "execution_count": 7,
      "outputs": [
        {
          "output_type": "stream",
          "name": "stdout",
          "text": [
            "Accuracy: 100.0%\n",
            "----------\n",
            "Loss: mean_squared_error\n",
            "Input Layer: 2\n",
            "\n",
            "--- Output Layer ---\n",
            "Neurons: 1\n",
            "Activation: sigmoid\n",
            "Initialization: xavier\n",
            "Weights: 2\n",
            "Biases: 1\n",
            "\n",
            "Total weights: 2\n",
            "Total biases: 1\n",
            "Total parameters: 3\n",
            "Loss: 0.00417210589037031\n",
            "----------\n"
          ]
        },
        {
          "output_type": "display_data",
          "data": {
            "text/plain": [
              "<Figure size 640x480 with 1 Axes>"
            ],
            "image/png": "[encoded data removed]"
          },
          "metadata": {}
        }
      ]
    },
    {
      "cell_type": "markdown",
      "source": [
        "Function Approximation"
      ],
      "metadata": {
        "id": "l6lJmYPBEm8b"
      }
    },
    {
      "cell_type": "code",
      "source": [
        "nums = np.linspace(0, 10, num=1000)\n",
        "x = np.expand_dims(nums, axis=-1) / 10\n",
        "y = nums * nums\n",
        "\n",
        "model = Regressor(1, 1)\n",
        "model.add(16, \"relu\", \"he\")\n",
        "model.add(16, \"relu\", \"he\")\n",
        "model.fit(x, y.reshape(-1, 1), 16, 0.0001, 10000)\n",
        "model.test(x, y.reshape(-1, 1))\n",
        "model.summary()"
      ],
      "metadata": {
        "colab": {
          "base_uri": "https://localhost:8080/",
          "height": 968
        },
        "id": "bLeK_BGGBQ1A",
        "outputId": "f1bf4f46-71dd-4f19-a291-0cec652e9036"
      },
      "execution_count": 23,
      "outputs": [
        {
          "output_type": "stream",
          "name": "stdout",
          "text": [
            "Average error: 0.283\n",
            "----------\n",
            "Loss: mean_squared_error\n",
            "Input Layer: 1\n",
            "\n",
            "--- Hidden Layer 1 ---\n",
            "Neurons: 16\n",
            "Activation: relu\n",
            "Initialization: he\n",
            "Weights: 16\n",
            "Biases: 16\n",
            "\n",
            "--- Hidden Layer 2 ---\n",
            "Neurons: 16\n",
            "Activation: relu\n",
            "Initialization: he\n",
            "Weights: 256\n",
            "Biases: 16\n",
            "\n",
            "--- Output Layer ---\n",
            "Neurons: 1\n",
            "Activation: linear\n",
            "Initialization: xavier\n",
            "Weights: 16\n",
            "Biases: 1\n",
            "\n",
            "Total weights: 288\n",
            "Total biases: 33\n",
            "Total parameters: 321\n",
            "Loss: 0.21003943599359814\n",
            "----------\n"
          ]
        },
        {
          "output_type": "display_data",
          "data": {
            "text/plain": [
              "<Figure size 640x480 with 1 Axes>"
            ],
            "image/png": "[encoded data removed]"
          },
          "metadata": {}
        }
      ]
    }
  ]
}